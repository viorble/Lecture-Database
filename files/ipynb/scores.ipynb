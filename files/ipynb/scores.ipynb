{
 "cells": [
  {
   "cell_type": "markdown",
   "metadata": {},
   "source": [
    "### Import Library"
   ]
  },
  {
   "cell_type": "code",
   "execution_count": 1,
   "metadata": {},
   "outputs": [],
   "source": [
    "import sys\n",
    "sys.path.append(\n",
    "    \"/Users/jacky/Library/Mobile Documents/com~apple~CloudDocs/交大教學/DB/Lecture-Database/.venv/lib/python3.13/site-packages\")"
   ]
  },
  {
   "cell_type": "code",
   "execution_count": 2,
   "metadata": {},
   "outputs": [],
   "source": [
    "import mysql.connector"
   ]
  },
  {
   "cell_type": "markdown",
   "metadata": {},
   "source": [
    "### Build Connection"
   ]
  },
  {
   "cell_type": "code",
   "execution_count": 4,
   "metadata": {},
   "outputs": [],
   "source": [
    "conn = mysql.connector.connect(\n",
    "    host=\"127.0.0.1\",   # Change to your MySQL server host\n",
    "    user=\"dbms_demo\",        # Change to your username\n",
    "    password=\"12345\",  # Change to your password\n",
    "    database=\"demo\"  # Change to your database name\n",
    ")"
   ]
  },
  {
   "cell_type": "markdown",
   "metadata": {},
   "source": [
    "### Create Tables "
   ]
  },
  {
   "cell_type": "code",
   "execution_count": 5,
   "metadata": {},
   "outputs": [],
   "source": [
    "# create a cursor object when working with a database connection.\n",
    "# cursor object is the primary way to execute SQL queries and fetch data from DB\n",
    "cursor = conn.cursor()\n",
    "\n",
    "# 1. make a SQL statement as a string to create a table\n",
    "create_scores_table = \"\"\"\n",
    "CREATE TABLE IF NOT EXISTS score (\n",
    "    id VARCHAR(10) PRIMARY KEY,\n",
    "    name VARCHAR(20) NOT NULL,\n",
    "    chinese INT NOT NULL,\n",
    "    math INT NOT NULL,\n",
    "    english INT NOT NULL\n",
    ");\n",
    "\"\"\"\n",
    "# 2. execute SQL statement with cursor object\n",
    "cursor.execute(create_scores_table)\n",
    "# 3. commit the transaction\n",
    "conn.commit()"
   ]
  },
  {
   "cell_type": "markdown",
   "metadata": {},
   "source": [
    "### [C]reate Records"
   ]
  },
  {
   "cell_type": "code",
   "execution_count": 6,
   "metadata": {},
   "outputs": [],
   "source": [
    "insert_score = \"\"\"\n",
    "INSERT INTO\n",
    "    score (id, name, chinese, math, english)\n",
    "VALUES\n",
    "    (\"001\", 'John', 90, 80, 70),\n",
    "    (\"002\", 'Mary', 55, 60, 75),\n",
    "    (\"003\", 'Tom', 90, 95, 100);\n",
    "\"\"\"    \n",
    "cursor.execute(insert_score)\n",
    "conn.commit()"
   ]
  },
  {
   "cell_type": "markdown",
   "metadata": {},
   "source": [
    "### [R]ead Records"
   ]
  },
  {
   "cell_type": "code",
   "execution_count": 8,
   "metadata": {},
   "outputs": [
    {
     "name": "stdout",
     "output_type": "stream",
     "text": [
      "[('001', 'John', 90, 80, 70), ('002', 'Mary', 55, 60, 75), ('003', 'Tom', 90, 95, 100)]\n",
      "ID: 001, Name: John, Chinese: 90, Math: 80, English: 70\n",
      "ID: 002, Name: Mary, Chinese: 55, Math: 60, English: 75\n",
      "ID: 003, Name: Tom, Chinese: 90, Math: 95, English: 100\n"
     ]
    }
   ],
   "source": [
    "read_score = \"\"\"\n",
    "SELECT * FROM score;\n",
    "\"\"\"\n",
    "# the cursor object will execute the SELECT * FROM score query on the database\n",
    "# and prepare the results for further processing.\n",
    "cursor.execute(read_score)\n",
    "\n",
    "# fetchall() method to get all the rows from the result set\n",
    "# fetchone() method to get the first row from the result set\n",
    "# fetchmany() method to get a specific number of rows from the result set\n",
    "rows = cursor.fetchall()\n",
    "print(rows)\n",
    "for row in rows:\n",
    "    print(f'ID: {row[0]}, Name: {row[1]}, Chinese: {row[2]}, Math: {row[3]}, English: {row[4]}')"
   ]
  },
  {
   "cell_type": "code",
   "execution_count": 9,
   "metadata": {},
   "outputs": [
    {
     "name": "stdout",
     "output_type": "stream",
     "text": [
      "[('003', 'Tom', 90, 95, 100)]\n",
      "ID: 003, Name: Tom, Math: 95\n"
     ]
    }
   ],
   "source": [
    "read_score = \"\"\"\n",
    "SELECT * FROM score WHERE math > 90;\n",
    "\"\"\"\n",
    "cursor.execute(read_score)\n",
    "rows = cursor.fetchall()\n",
    "print(rows)\n",
    "for row in rows:\n",
    "    print(f'ID: {row[0]}, Name: {row[1]}, Math: {row[3]}')"
   ]
  },
  {
   "cell_type": "markdown",
   "metadata": {},
   "source": [
    "### [U]pdate Records"
   ]
  },
  {
   "cell_type": "code",
   "execution_count": 10,
   "metadata": {},
   "outputs": [],
   "source": [
    "update_score = \"\"\"\n",
    "UPDATE\n",
    "    score\n",
    "SET\n",
    "    math = 83\n",
    "WHERE\n",
    "    id = '002'        \n",
    "\"\"\"\n",
    "cursor.execute(update_score)\n",
    "conn.commit()"
   ]
  },
  {
   "cell_type": "markdown",
   "metadata": {},
   "source": [
    "### [D]elete Records"
   ]
  },
  {
   "cell_type": "code",
   "execution_count": 11,
   "metadata": {},
   "outputs": [],
   "source": [
    "delete_record = \"DELETE FROM score WHERE id = '002';\"\n",
    "cursor.execute(delete_record)\n",
    "conn.commit()"
   ]
  },
  {
   "cell_type": "markdown",
   "metadata": {},
   "source": [
    "### Close Connection"
   ]
  },
  {
   "cell_type": "code",
   "execution_count": 12,
   "metadata": {},
   "outputs": [],
   "source": [
    "conn.close()"
   ]
  },
  {
   "cell_type": "markdown",
   "metadata": {},
   "source": []
  },
  {
   "cell_type": "markdown",
   "metadata": {},
   "source": [
    "### Drop Tables"
   ]
  },
  {
   "cell_type": "code",
   "execution_count": 13,
   "metadata": {},
   "outputs": [],
   "source": [
    "conn = mysql.connector.connect(\n",
    "    host=\"127.0.0.1\",   # Change to your MySQL server host\n",
    "    user=\"dbms_demo\",        # Change to your username\n",
    "    password=\"12345\",  # Change to your password\n",
    "    database=\"demo\"  # Change to your database name\n",
    ")\n",
    "cursor = conn.cursor()\n",
    "cursor.execute(\"DROP TABLE score\")\n",
    "conn.commit()\n",
    "conn.close()"
   ]
  }
 ],
 "metadata": {
  "kernelspec": {
   "display_name": ".venv",
   "language": "python",
   "name": "python3"
  },
  "language_info": {
   "codemirror_mode": {
    "name": "ipython",
    "version": 3
   },
   "file_extension": ".py",
   "mimetype": "text/x-python",
   "name": "python",
   "nbconvert_exporter": "python",
   "pygments_lexer": "ipython3",
   "version": "3.13.2"
  }
 },
 "nbformat": 4,
 "nbformat_minor": 2
}
